{
  "nbformat": 4,
  "nbformat_minor": 0,
  "metadata": {
    "colab": {
      "provenance": []
    },
    "kernelspec": {
      "name": "python3",
      "display_name": "Python 3"
    },
    "language_info": {
      "name": "python"
    }
  },
  "cells": [
    {
      "cell_type": "code",
      "execution_count": 1,
      "metadata": {
        "id": "y25XiBrSmW1m"
      },
      "outputs": [],
      "source": [
        "import numpy as np"
      ]
    },
    {
      "cell_type": "code",
      "source": [
        "ar=np.array([1,2,3,4])\n",
        "print(ar)\n",
        "print(ar.dtype)"
      ],
      "metadata": {
        "colab": {
          "base_uri": "https://localhost:8080/"
        },
        "id": "tFynAlc3ocxf",
        "outputId": "8654aad6-a249-4d56-cfe2-f14f0421d80a"
      },
      "execution_count": 2,
      "outputs": [
        {
          "output_type": "stream",
          "name": "stdout",
          "text": [
            "[1 2 3 4]\n",
            "int64\n"
          ]
        }
      ]
    },
    {
      "cell_type": "code",
      "source": [
        "ar1=np.array(['hell'])\n",
        "print(ar1)\n",
        "print(ar1.dtype)"
      ],
      "metadata": {
        "colab": {
          "base_uri": "https://localhost:8080/"
        },
        "id": "1jqn59apoea0",
        "outputId": "8bebd9a9-890e-4293-efff-06546bbde1c2"
      },
      "execution_count": 3,
      "outputs": [
        {
          "output_type": "stream",
          "name": "stdout",
          "text": [
            "['hell']\n",
            "<U4\n"
          ]
        }
      ]
    },
    {
      "cell_type": "code",
      "source": [
        "ar3 = np.array(['apple', 'banana', 'cherry'])\n",
        "\n",
        "print(ar3.dtype)"
      ],
      "metadata": {
        "colab": {
          "base_uri": "https://localhost:8080/"
        },
        "id": "ljAzRG0oohzp",
        "outputId": "51dadbe6-4867-49ab-cd28-c47903e01257"
      },
      "execution_count": 4,
      "outputs": [
        {
          "output_type": "stream",
          "name": "stdout",
          "text": [
            "<U6\n"
          ]
        }
      ]
    },
    {
      "cell_type": "code",
      "source": [
        "ar4 = np.array([1, 2, 3, 4], dtype='S')\n",
        "\n",
        "print(ar4)\n",
        "print(ar4.dtype)"
      ],
      "metadata": {
        "colab": {
          "base_uri": "https://localhost:8080/"
        },
        "id": "x7-OruDkonbg",
        "outputId": "b3a08369-9e4f-4e18-d8cc-fdb2e72850c5"
      },
      "execution_count": 5,
      "outputs": [
        {
          "output_type": "stream",
          "name": "stdout",
          "text": [
            "[b'1' b'2' b'3' b'4']\n",
            "|S1\n"
          ]
        }
      ]
    },
    {
      "cell_type": "code",
      "source": [
        "ar5 = np.array(['Ab','cd','ef'])\n",
        "\n",
        "print(ar5)\n",
        "print(ar5.dtype)"
      ],
      "metadata": {
        "colab": {
          "base_uri": "https://localhost:8080/"
        },
        "id": "3AixleGZopev",
        "outputId": "b2926a8d-9689-462e-ea3d-4eef1b292c54"
      },
      "execution_count": 6,
      "outputs": [
        {
          "output_type": "stream",
          "name": "stdout",
          "text": [
            "['Ab' 'cd' 'ef']\n",
            "<U2\n"
          ]
        }
      ]
    },
    {
      "cell_type": "code",
      "source": [
        "ar6 = np.array([1, 2, 3, 4])\n",
        "\n",
        "print(ar6)\n",
        "print(ar6.dtype)"
      ],
      "metadata": {
        "colab": {
          "base_uri": "https://localhost:8080/"
        },
        "id": "9E12uMHlotCx",
        "outputId": "6ebc8961-e3e5-413a-a9a1-1d45a0ac2350"
      },
      "execution_count": 7,
      "outputs": [
        {
          "output_type": "stream",
          "name": "stdout",
          "text": [
            "[1 2 3 4]\n",
            "int64\n"
          ]
        }
      ]
    },
    {
      "cell_type": "code",
      "source": [
        "ar6 = np.array([1, 2, 3, 4],dtype='i4')\n",
        "\n",
        "print(ar6)\n",
        "print(ar6.dtype)"
      ],
      "metadata": {
        "id": "P0X0XpQgoxVQ"
      },
      "execution_count": null,
      "outputs": []
    }
  ]
}