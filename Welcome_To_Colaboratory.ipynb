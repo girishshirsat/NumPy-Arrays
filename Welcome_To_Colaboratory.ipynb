{
  "cells": [
    {
      "cell_type": "markdown",
      "metadata": {
        "id": "OexuaoFQUUEW"
      },
      "source": [
        "1D array\n"
      ]
    },
    {
      "cell_type": "code",
      "execution_count": 4,
      "metadata": {
        "colab": {
          "base_uri": "https://localhost:8080/"
        },
        "id": "ByUb3zOoPLsS",
        "outputId": "cdd71f7e-81ca-4ba6-b487-d5e34e514190"
      },
      "outputs": [
        {
          "name": "stdout",
          "output_type": "stream",
          "text": [
            "[1 2 3 4 5 6]\n",
            "[0 1 2 3 4 5 6 7 8 9]\n"
          ]
        }
      ],
      "source": [
        "import numpy as Np\n",
        "\n",
        "a=Np.array([1,2,3,4,5,6])\n",
        "print(a)\n",
        "\n",
        "print(Np.arange(10))"
      ]
    },
    {
      "cell_type": "code",
      "execution_count": 17,
      "metadata": {
        "colab": {
          "base_uri": "https://localhost:8080/"
        },
        "id": "eg5wTXn6XJZ7",
        "outputId": "4439cc0d-02cc-4b00-dda9-cdbc8b164470"
      },
      "outputs": [
        {
          "data": {
            "text/plain": [
              "(6,)"
            ]
          },
          "execution_count": 17,
          "metadata": {},
          "output_type": "execute_result"
        }
      ],
      "source": [
        "a.shape"
      ]
    },
    {
      "cell_type": "code",
      "execution_count": 19,
      "metadata": {
        "colab": {
          "base_uri": "https://localhost:8080/"
        },
        "id": "0x4QMoHKXNC7",
        "outputId": "a5cdd923-1c4b-4e78-908b-6ce0361a8343"
      },
      "outputs": [
        {
          "name": "stdout",
          "output_type": "stream",
          "text": [
            "dimention of a: 1\n"
          ]
        }
      ],
      "source": [
        "\n",
        "print(\"dimention of a:\",a.ndim)"
      ]
    },
    {
      "cell_type": "markdown",
      "metadata": {
        "id": "jQHlh2LsSR9i"
      },
      "source": [
        "Two diamentional array\n"
      ]
    },
    {
      "cell_type": "code",
      "execution_count": 8,
      "metadata": {
        "colab": {
          "base_uri": "https://localhost:8080/"
        },
        "id": "FIVj4xRySYp8",
        "outputId": "6d8ea0f5-b408-4e7a-f7a9-aaa75a80e3d9"
      },
      "outputs": [
        {
          "name": "stdout",
          "output_type": "stream",
          "text": [
            "[[1 2 3]\n",
            " [3 2 1]]\n"
          ]
        }
      ],
      "source": [
        "b=Np.array([[1,2,3],[3,2,1]])\n",
        "print(b)"
      ]
    },
    {
      "cell_type": "code",
      "execution_count": 24,
      "metadata": {
        "colab": {
          "base_uri": "https://localhost:8080/"
        },
        "id": "hYUEOuHlXrZX",
        "outputId": "ed2acd9e-fd92-4474-8fe5-72ed018d41aa"
      },
      "outputs": [
        {
          "name": "stdout",
          "output_type": "stream",
          "text": [
            "(2, 3)\n"
          ]
        }
      ],
      "source": [
        "sh=b.shape\n",
        "print(sh)"
      ]
    },
    {
      "cell_type": "markdown",
      "metadata": {
        "id": "Sv4CH1-fTJb2"
      },
      "source": [
        "3D array\n"
      ]
    },
    {
      "cell_type": "code",
      "execution_count": 13,
      "metadata": {
        "colab": {
          "base_uri": "https://localhost:8080/"
        },
        "id": "lx_1pAdoUZYG",
        "outputId": "145f68cf-ac42-4ca0-d40b-516e03db6233"
      },
      "outputs": [
        {
          "name": "stdout",
          "output_type": "stream",
          "text": [
            "[[[1 2]\n",
            "  [5 6]]\n",
            "\n",
            " [[4 3]\n",
            "  [3 4]]]\n"
          ]
        }
      ],
      "source": [
        "c= Np.array([[[1,2],[5,6]],[[4,3],[3,4]]])\n",
        "print(c)\n"
      ]
    },
    {
      "cell_type": "code",
      "execution_count": 25,
      "metadata": {
        "colab": {
          "base_uri": "https://localhost:8080/"
        },
        "id": "uOr6RPhuazxz",
        "outputId": "9771c34e-d988-4cb7-f89d-ffcd0509ab2e"
      },
      "outputs": [
        {
          "data": {
            "text/plain": [
              "(2, 2, 2)"
            ]
          },
          "execution_count": 25,
          "metadata": {},
          "output_type": "execute_result"
        }
      ],
      "source": [
        "c.shape"
      ]
    },
    {
      "cell_type": "code",
      "execution_count": 26,
      "metadata": {
        "colab": {
          "base_uri": "https://localhost:8080/"
        },
        "id": "CjaLI9qPa3N0",
        "outputId": "da7ef58c-1576-4694-c4b3-cd20b269777f"
      },
      "outputs": [
        {
          "data": {
            "text/plain": [
              "3"
            ]
          },
          "execution_count": 26,
          "metadata": {},
          "output_type": "execute_result"
        }
      ],
      "source": [
        "c.ndim"
      ]
    },
    {
      "cell_type": "markdown",
      "metadata": {
        "id": "nw0ty0fMfK7d"
      },
      "source": [
        "# **Various Function**"
      ]
    },
    {
      "cell_type": "code",
      "execution_count": null,
      "metadata": {
        "id": "sBHMmRnTfSt8"
      },
      "outputs": [],
      "source": []
    }
  ],
  "metadata": {
    "colab": {
      "name": "Welcome To Colaboratory",
      "provenance": []
    },
    "kernelspec": {
      "display_name": "Python 3",
      "name": "python3"
    }
  },
  "nbformat": 4,
  "nbformat_minor": 0
}
